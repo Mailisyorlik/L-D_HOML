{
 "cells": [
  {
   "cell_type": "code",
   "execution_count": 1,
   "metadata": {},
   "outputs": [
    {
     "ename": "SyntaxError",
     "evalue": "incomplete input (2051973483.py, line 9)",
     "output_type": "error",
     "traceback": [
      "\u001b[0;36m  Cell \u001b[0;32mIn [1], line 9\u001b[0;36m\u001b[0m\n\u001b[0;31m    lifesat = pd.read_csv(dataroot +\u001b[0m\n\u001b[0m                                     ^\u001b[0m\n\u001b[0;31mSyntaxError\u001b[0m\u001b[0;31m:\u001b[0m incomplete input\n"
     ]
    }
   ],
   "source": [
    "import matplotlib as plt\n",
    "import numpy as np\n",
    "import pandas as pd\n",
    "\n",
    "from sklearn.linear_model import LinearRegression\n",
    "\n",
    "dataroot = \"link\"\n",
    "#get the data from an external url\n",
    "lifesat = pd.read_csv(dataroot + \".csv\")\n",
    "X = lifesat([\"Gdp per capita\"]).values\n",
    "Y = lifesat(['Life satisfaction']).values\n",
    "#extract the relevant values\n",
    "print(lifesat)\n",
    "\n",
    "lifesat.plot(kind = 'scatter', grid = True, x = \"GDP per capita\", y = \"Life satisfaction\")\n",
    "#plot the data. \n",
    "plt.axis = ([23_500, 62_500, 4, 9])\n",
    "plt.show\n",
    "\n",
    "model = LinearRegression()\n",
    "model.fit(X, Y)\n",
    "X_new = 32.6\n",
    "print(model.predict(X_new))\n",
    "\n",
    "\n",
    "\n",
    "\n"
   ]
  },
  {
   "cell_type": "code",
   "execution_count": null,
   "metadata": {},
   "outputs": [],
   "source": [
    "dataroot = \"link\""
   ]
  }
 ],
 "metadata": {
  "kernelspec": {
   "display_name": "Python 3.11.0 64-bit",
   "language": "python",
   "name": "python3"
  },
  "language_info": {
   "codemirror_mode": {
    "name": "ipython",
    "version": 3
   },
   "file_extension": ".py",
   "mimetype": "text/x-python",
   "name": "python",
   "nbconvert_exporter": "python",
   "pygments_lexer": "ipython3",
   "version": "3.11.0"
  },
  "orig_nbformat": 4,
  "vscode": {
   "interpreter": {
    "hash": "aee8b7b246df8f9039afb4144a1f6fd8d2ca17a180786b69acc140d282b71a49"
   }
  }
 },
 "nbformat": 4,
 "nbformat_minor": 2
}
