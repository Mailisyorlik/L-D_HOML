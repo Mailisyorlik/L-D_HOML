{
 "cells": [
  {
   "cell_type": "code",
   "execution_count": 1,
   "metadata": {},
   "outputs": [
    {
     "ename": "SyntaxError",
     "evalue": "incomplete input (2051973483.py, line 9)",
     "output_type": "error",
     "traceback": [
      "\u001b[0;36m  Cell \u001b[0;32mIn [1], line 9\u001b[0;36m\u001b[0m\n\u001b[0;31m    lifesat = pd.read_csv(dataroot +\u001b[0m\n\u001b[0m                                     ^\u001b[0m\n\u001b[0;31mSyntaxError\u001b[0m\u001b[0;31m:\u001b[0m incomplete input\n"
     ]
    }
   ],
   "source": [
    "import matplotlib as plt\n",
    "import numpy as np\n",
    "import pandas as pd\n",
    "\n",
    "from sklearn.linear_model import LinearRegression\n",
    "\n",
    "dataroot = \"link\"\n",
    "#get the data from an external url\n",
    "lifesat = pd.read_csv(dataroot + \".csv\")\n",
    "X = lifesat([\"Gdp per capita\"]).values\n",
    "Y = lifesat(['Life satisfaction']).values\n",
    "#extract the relevant values\n",
    "print(lifesat)\n",
    "\n",
    "lifesat.plot(kind = 'scatter', grid = True, x = \"GDP per capita\", y = \"Life satisfaction\")\n",
    "#plot the data. \n",
    "plt.axis = ([23_500, 62_500, 4, 9])\n",
    "plt.show\n",
    "\n",
    "model = LinearRegression()\n",
    "model.fit(X, Y)\n",
    "X_new = 32.6\n",
    "print(model.predict(X_new))\n",
    "\n",
    "\n",
    "\n",
    "\n"
   ]
  },
  {
   "cell_type": "code",
   "execution_count": 4,
   "metadata": {},
   "outputs": [
    {
     "ename": "NameError",
     "evalue": "name 'pd' is not defined",
     "output_type": "error",
     "traceback": [
      "\u001b[0;31m---------------------------------------------------------------------------\u001b[0m",
      "\u001b[0;31mNameError\u001b[0m                                 Traceback (most recent call last)",
      "Cell \u001b[0;32mIn [4], line 3\u001b[0m\n\u001b[1;32m      1\u001b[0m dataroot \u001b[39m=\u001b[39m \u001b[39m\"\u001b[39m\u001b[39mlink\u001b[39m\u001b[39m\"\u001b[39m\n\u001b[0;32m----> 3\u001b[0m lifesat \u001b[39m=\u001b[39m pd\u001b[39m.\u001b[39mread_csv(dataroot \u001b[39m+\u001b[39m \u001b[39m\"\u001b[39m\u001b[39m.csv\u001b[39m\u001b[39m\"\u001b[39m)\n\u001b[1;32m      4\u001b[0m X \u001b[39m=\u001b[39m lifesat([\u001b[39m\"\u001b[39m\u001b[39mGDP per capita\u001b[39m\u001b[39m\"\u001b[39m])\u001b[39m.\u001b[39mvalues\n\u001b[1;32m      5\u001b[0m Y \u001b[39m=\u001b[39m lifesat([\u001b[39m\"\u001b[39m\u001b[39mlife satisfaction\u001b[39m\u001b[39m\"\u001b[39m])\u001b[39m.\u001b[39mvalues\n",
      "\u001b[0;31mNameError\u001b[0m: name 'pd' is not defined"
     ]
    }
   ],
   "source": [
    "dataroot = \"link\"\n",
    "\n",
    "lifesat = pd.read_csv(dataroot + \".csv\")\n",
    "X = lifesat([\"GDP per capita\"]).values\n",
    "Y = lifesat([\"life satisfaction\"]).values\n",
    "print(lifesat)\n",
    "\n",
    "lifesat.plot(kind = \"scatter\", grid = True, x = \"GDP per capita\", y = \"life satisfaction\")\n",
    "\n",
    "plt.axis = ([23_500, 62_500, 4, 9])\n",
    "plt.show\n",
    "\n",
    "model = LinearRegression()\n",
    "model.fit(X, Y)\n",
    "X_new = 33\n",
    "print(model.predict(X_new))\n",
    "\n"
   ]
  },
  {
   "cell_type": "code",
   "execution_count": null,
   "metadata": {},
   "outputs": [],
   "source": [
    "import pathlib\n",
    "import tarfile\n",
    "from pathlib import Path\n",
    "import urllib\n",
    "import numpy as np\n",
    "\n",
    "def load_housing_data():\n",
    "    tarball_path = Path(\"dataset.tgz\")\n",
    "    if not tarball_path.is_file():\n",
    "        url = \"url.com\"\n",
    "        urllib.request.urlretrieve(url, tarball_path)\n",
    "        with tarball_path.open(tarball_path) as housing_tarball:\n",
    "            housing_tarball.extractall(path = \"datasets\")\n",
    "        return pd.read_csv(Path(\"datasetspath\"))\n",
    "\n",
    "housing = load_housing_data()\n",
    "print(housing.info)\n",
    "\n",
    "housing.hist(bins = 50, figsize= (12, 8))\n",
    "\n",
    "def shuffle_and_split_data(data, test_ratio):\n",
    "    shuffled_indices = np.random.permutation(len(data)) #randomly shuffle indices\n",
    "    test_set_size = int(len(data) * test_ratio) #set the set size\n",
    "    test_indices = shuffled_indices[:test_set_size:] #use set size to select indices\n",
    "    train_indices = shuffled_indices[test_set_size] #select the rest not selected above\n",
    "    return data.iloc[train_indices], data.iloc[test_indices] #return the resultant data locations\n",
    "\n",
    "shuffle_and_split_data(housing, 0.2)\n",
    "\n",
    "def load_housing_data():\n",
    "    tarball_path = Path(\"dataset.tgz\")\n",
    "    if not tarball_path.is_file():\n",
    "        url = \"url.com\"\n",
    "        urllib.request.urlretriever(url, tarball_path)\n",
    "        with tarball_path.open(tarball_path) as housing_tarball:\n",
    "            housing_tarball.extractall(path = \"datasets\")\n",
    "        return pd.read_csv(Path(\"datasetspath\"))\n",
    "\n",
    "housing = load_housing_data()\n",
    "print(housing.info)\n",
    "\n",
    "def shuffle_and_split_data(data, test_ratio):\n",
    "    shuffled_indices = np.random.permutation(len(data))\n",
    "    test_set_size = int(len(data) * test_ratio)\n",
    "    test_indices = shuffled_indices[:test_set_size:]\n",
    "    train_indices = shuffled_indices[test_set_size]\n",
    "    return data.iloc[train_indices], data.iloc[train_indices]\n",
    "\n",
    "shuffle_and_split_data(housing, 0,3)\n"
   ]
  }
 ],
 "metadata": {
  "kernelspec": {
   "display_name": "Python 3.11.0 64-bit",
   "language": "python",
   "name": "python3"
  },
  "language_info": {
   "codemirror_mode": {
    "name": "ipython",
    "version": 3
   },
   "file_extension": ".py",
   "mimetype": "text/x-python",
   "name": "python",
   "nbconvert_exporter": "python",
   "pygments_lexer": "ipython3",
   "version": "3.11.0"
  },
  "orig_nbformat": 4,
  "vscode": {
   "interpreter": {
    "hash": "aee8b7b246df8f9039afb4144a1f6fd8d2ca17a180786b69acc140d282b71a49"
   }
  }
 },
 "nbformat": 4,
 "nbformat_minor": 2
}
